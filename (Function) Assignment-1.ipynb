{
 "cells": [
  {
   "cell_type": "code",
   "execution_count": 23,
   "metadata": {},
   "outputs": [],
   "source": [
    "class SubFeildsInAi():\n",
    "    def SubfeildsinAi():\n",
    "        print((\"Sub-feilds in Ai are:\"))\n",
    "        print((\"Machine learning\"))\n",
    "        print((\"neutral networks\"))\n",
    "        print((\"Vision\"))\n",
    "        print((\"Robotics\"))\n",
    "        print((\"Speech Processing\"))\n",
    "        \n",
    "        "
   ]
  },
  {
   "cell_type": "code",
   "execution_count": 24,
   "metadata": {},
   "outputs": [
    {
     "name": "stdout",
     "output_type": "stream",
     "text": [
      "Sub-feilds in Ai are:\n",
      "Machine learning\n",
      "neutral networks\n",
      "Vision\n",
      "Robotics\n",
      "Speech Processing\n"
     ]
    }
   ],
   "source": [
    "SubFeildsInAi.SubfeildsinAi()"
   ]
  },
  {
   "cell_type": "code",
   "execution_count": 13,
   "metadata": {},
   "outputs": [],
   "source": [
    "\n",
    "def OddEven():\n",
    "    num=int(input(\"Enter a number:\"))\n",
    "    if((num%2)==1):\n",
    "        print(num,\"is a odd number\")\n",
    "    else:\n",
    "        print(num,\"is a Even number\")\n"
   ]
  },
  {
   "cell_type": "code",
   "execution_count": 14,
   "metadata": {},
   "outputs": [
    {
     "name": "stdout",
     "output_type": "stream",
     "text": [
      "Enter a number:52452\n",
      "52452 is a Even number\n"
     ]
    }
   ],
   "source": [
    "OddEven()"
   ]
  },
  {
   "cell_type": "code",
   "execution_count": 19,
   "metadata": {},
   "outputs": [],
   "source": [
    "def Eligibilityformarrage():\n",
    "    (input(\"Your gender:\"))\n",
    "    age=int(input(\"Your age:\"))\n",
    "    if(age<21):\n",
    "        print(\"NOT ELIGIBILE\")\n",
    "    elif(age>=18):\n",
    "        print(\"ELIGIBLE\")\n",
    "    \n",
    "        "
   ]
  },
  {
   "cell_type": "code",
   "execution_count": 20,
   "metadata": {},
   "outputs": [
    {
     "name": "stdout",
     "output_type": "stream",
     "text": [
      "Your gender:male\n",
      "Your age:20\n",
      "NOT ELIGIBILE\n"
     ]
    }
   ],
   "source": [
    "Eligibilityformarrage()"
   ]
  },
  {
   "cell_type": "code",
   "execution_count": 35,
   "metadata": {},
   "outputs": [],
   "source": [
    "def percentage():\n",
    "    mark1=int(input(\"Subject1=\"))\n",
    "    mark2=int(input(\"Subject2=\"))\n",
    "    mark3=int(input(\"Subject3=\"))\n",
    "    mark4=int(input(\"Subject4=\"))\n",
    "    mark5=int(input(\"Subject5=\"))\n",
    "    total=mark1+mark2+mark3+mark4+mark5\n",
    "    average=total/5\n",
    "    print(\"TOTAl:\",total)\n",
    "    print(\"Percentage:\",average)\n",
    "    \n",
    "    \n",
    "    "
   ]
  },
  {
   "cell_type": "code",
   "execution_count": 36,
   "metadata": {},
   "outputs": [
    {
     "name": "stdout",
     "output_type": "stream",
     "text": [
      "Subject1=98\n",
      "Subject2=87\n",
      "Subject3=95\n",
      "Subject4=95\n",
      "Subject5=93\n",
      "TOTAl: 468\n",
      "Percentage: 93.6\n"
     ]
    }
   ],
   "source": [
    "percentage()"
   ]
  },
  {
   "cell_type": "code",
   "execution_count": 44,
   "metadata": {},
   "outputs": [],
   "source": [
    "def triangle():\n",
    "    Height=float(input(\"Height:\"))\n",
    "    Breadth=float(input(\"Breadth:\"))\n",
    "    area=(Height*Breadth)/2\n",
    "    print(\"Area of a triangle:\",area)\n",
    "    Height1=float(input(\"Height1:\"))\n",
    "    Height2=float(input(\"Height2:\"))\n",
    "    Breath=float(input(\"Breadth:\"))\n",
    "    perimeter=Height1+Height2+Breadth\n",
    "    print(\"perimeter of a triange:\",perimeter)"
   ]
  },
  {
   "cell_type": "code",
   "execution_count": 45,
   "metadata": {},
   "outputs": [
    {
     "name": "stdout",
     "output_type": "stream",
     "text": [
      "Height:32\n",
      "Breadth:34\n",
      "Area of a triangle: 544.0\n",
      "Height1:2\n",
      "Height2:4\n",
      "Breadth:4\n",
      "perimeter of a triange: 40.0\n"
     ]
    }
   ],
   "source": [
    "triangle()"
   ]
  },
  {
   "cell_type": "code",
   "execution_count": null,
   "metadata": {},
   "outputs": [],
   "source": []
  }
 ],
 "metadata": {
  "kernelspec": {
   "display_name": "Python 3",
   "language": "python",
   "name": "python3"
  },
  "language_info": {
   "codemirror_mode": {
    "name": "ipython",
    "version": 3
   },
   "file_extension": ".py",
   "mimetype": "text/x-python",
   "name": "python",
   "nbconvert_exporter": "python",
   "pygments_lexer": "ipython3",
   "version": "3.7.4"
  }
 },
 "nbformat": 4,
 "nbformat_minor": 2
}
